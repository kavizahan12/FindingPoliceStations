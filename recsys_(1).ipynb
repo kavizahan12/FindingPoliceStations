{
  "nbformat": 4,
  "nbformat_minor": 0,
  "metadata": {
    "colab": {
      "name": "recsys (1).ipynb",
      "provenance": [],
      "collapsed_sections": [],
      "include_colab_link": true
    },
    "kernelspec": {
      "display_name": "Python 3",
      "language": "python",
      "name": "python3"
    },
    "language_info": {
      "codemirror_mode": {
        "name": "ipython",
        "version": 3
      },
      "file_extension": ".py",
      "mimetype": "text/x-python",
      "name": "python",
      "nbconvert_exporter": "python",
      "pygments_lexer": "ipython3",
      "version": "3.7.5"
    }
  },
  "cells": [
    {
      "cell_type": "markdown",
      "metadata": {
        "id": "view-in-github",
        "colab_type": "text"
      },
      "source": [
        "<a href=\"https://colab.research.google.com/github/kavizahan12/FindingPoliceStations/blob/master/recsys_(1).ipynb\" target=\"_parent\"><img src=\"https://colab.research.google.com/assets/colab-badge.svg\" alt=\"Open In Colab\"/></a>"
      ]
    },
    {
      "cell_type": "code",
      "metadata": {
        "id": "GIyFhro3swS8"
      },
      "source": [
        "import pandas as pd\n",
        "import numpy as np\n",
        "from math import sqrt\n",
        "from numpy import concatenate\n",
        "from matplotlib import pyplot\n",
        "from pandas import read_csv\n",
        "from pandas import DataFrame\n",
        "from pandas import concat\n",
        "from sklearn.preprocessing import MinMaxScaler\n",
        "from sklearn.preprocessing import LabelEncoder\n",
        "from sklearn.metrics import mean_squared_error\n",
        "from keras.models import Sequential\n",
        "from keras.layers import Dense\n",
        "from keras.layers import GRU\n",
        "import tensorflow as tf\n",
        "from datetime import datetime"
      ],
      "execution_count": null,
      "outputs": []
    },
    {
      "cell_type": "code",
      "metadata": {
        "id": "cbMKFYwstA4x"
      },
      "source": [
        "def convertCategory(x):#converts the category x into 13 if x=\"S\" else it won't convert.\n",
        "    if x==\"S\":\n",
        "        return 13\n",
        "    return x\n"
      ],
      "execution_count": null,
      "outputs": []
    },
    {
      "cell_type": "code",
      "metadata": {
        "id": "oRIWdamItItJ"
      },
      "source": [
        "def convertTime(x):#converts the date and time into string and calculates total time in second from 1st Jan,1970 to x.\n",
        "    time=datetime.strptime(x,\"%Y-%m-%dT%H:%M:%S.%fZ\")\n",
        "    epoch=datetime(1970,1,1)\n",
        "    return (time-epoch).total_seconds()"
      ],
      "execution_count": null,
      "outputs": []
    },
    {
      "cell_type": "code",
      "metadata": {
        "id": "GKnPZQF0tNy4"
      },
      "source": [
        "clicks_header=[\"session\",\"time\",\"item\",\"category\"]#header array for clicks datasets."
      ],
      "execution_count": null,
      "outputs": []
    },
    {
      "cell_type": "code",
      "metadata": {
        "colab": {
          "base_uri": "https://localhost:8080/"
        },
        "id": "XCy9-Z69dXNq",
        "outputId": "0ba8b8e4-d3f2-44a6-f283-8e6fe3ffa8ca"
      },
      "source": [
        "from google.colab import drive\n",
        "drive.mount('/content/drive')#retrieving the datasets from Google Drive."
      ],
      "execution_count": null,
      "outputs": [
        {
          "output_type": "stream",
          "text": [
            "Mounted at /content/drive\n"
          ],
          "name": "stdout"
        }
      ]
    },
    {
      "cell_type": "code",
      "metadata": {
        "colab": {
          "base_uri": "https://localhost:8080/"
        },
        "id": "_BuQ2oubtZFh",
        "outputId": "56484189-5126-4247-f4de-05f75c05e534"
      },
      "source": [
        "clicks=pd.read_csv(\"/content/drive/MyDrive/yoochoose-data/yoochoose-clicks.dat\",nrows=100000,dtype=float,names=clicks_header,converters={\"category\":convertCategory,\"time\":convertTime})\n",
        "#creates a csv file of clicks dataset with 100000 rows,names of the click_header array, float data type and converts the categories and times using the functions given above."
      ],
      "execution_count": null,
      "outputs": [
        {
          "output_type": "stream",
          "text": [
            "/usr/local/lib/python3.6/dist-packages/ipykernel_launcher.py:1: ParserWarning: Both a converter and dtype were specified for column time - only the converter will be used\n",
            "  \"\"\"Entry point for launching an IPython kernel.\n",
            "/usr/local/lib/python3.6/dist-packages/ipykernel_launcher.py:1: ParserWarning: Both a converter and dtype were specified for column category - only the converter will be used\n",
            "  \"\"\"Entry point for launching an IPython kernel.\n"
          ],
          "name": "stderr"
        }
      ]
    },
    {
      "cell_type": "code",
      "metadata": {
        "id": "qNlDGn4z7MGQ"
      },
      "source": [
        "sessionFreq=clicks[\"session\"].value_counts()#creates another column for the number of clicks occur during the specified sessions."
      ],
      "execution_count": null,
      "outputs": []
    },
    {
      "cell_type": "code",
      "metadata": {
        "id": "wrVjAd2T7No0"
      },
      "source": [
        "clicks[\"sessionFreq\"]=clicks[\"session\"].map(lambda x:sessionFreq[x])#adding the column sessionFrequency into clicks datasets."
      ],
      "execution_count": null,
      "outputs": []
    },
    {
      "cell_type": "code",
      "metadata": {
        "colab": {
          "base_uri": "https://localhost:8080/",
          "height": 424
        },
        "id": "dhdGZNlR7S36",
        "outputId": "e97c8769-bb66-423c-f54b-b6465311919d"
      },
      "source": [
        "clicks.fillna(0,inplace=True)#All NA are filled with 0s.\n",
        "values=clicks.values#collecting the values and store them into values array.\n",
        "values=values.astype('float32')#convert the values into floattype values.\n",
        "clicks# display the clicks datasets."
      ],
      "execution_count": null,
      "outputs": [
        {
          "output_type": "execute_result",
          "data": {
            "text/html": [
              "<div>\n",
              "<style scoped>\n",
              "    .dataframe tbody tr th:only-of-type {\n",
              "        vertical-align: middle;\n",
              "    }\n",
              "\n",
              "    .dataframe tbody tr th {\n",
              "        vertical-align: top;\n",
              "    }\n",
              "\n",
              "    .dataframe thead th {\n",
              "        text-align: right;\n",
              "    }\n",
              "</style>\n",
              "<table border=\"1\" class=\"dataframe\">\n",
              "  <thead>\n",
              "    <tr style=\"text-align: right;\">\n",
              "      <th></th>\n",
              "      <th>session</th>\n",
              "      <th>time</th>\n",
              "      <th>item</th>\n",
              "      <th>category</th>\n",
              "      <th>sessionFreq</th>\n",
              "    </tr>\n",
              "  </thead>\n",
              "  <tbody>\n",
              "    <tr>\n",
              "      <th>0</th>\n",
              "      <td>1.0</td>\n",
              "      <td>1.396868e+09</td>\n",
              "      <td>214536502.0</td>\n",
              "      <td>0</td>\n",
              "      <td>4</td>\n",
              "    </tr>\n",
              "    <tr>\n",
              "      <th>1</th>\n",
              "      <td>1.0</td>\n",
              "      <td>1.396868e+09</td>\n",
              "      <td>214536500.0</td>\n",
              "      <td>0</td>\n",
              "      <td>4</td>\n",
              "    </tr>\n",
              "    <tr>\n",
              "      <th>2</th>\n",
              "      <td>1.0</td>\n",
              "      <td>1.396868e+09</td>\n",
              "      <td>214536506.0</td>\n",
              "      <td>0</td>\n",
              "      <td>4</td>\n",
              "    </tr>\n",
              "    <tr>\n",
              "      <th>3</th>\n",
              "      <td>1.0</td>\n",
              "      <td>1.396868e+09</td>\n",
              "      <td>214577561.0</td>\n",
              "      <td>0</td>\n",
              "      <td>4</td>\n",
              "    </tr>\n",
              "    <tr>\n",
              "      <th>4</th>\n",
              "      <td>2.0</td>\n",
              "      <td>1.396879e+09</td>\n",
              "      <td>214662742.0</td>\n",
              "      <td>0</td>\n",
              "      <td>6</td>\n",
              "    </tr>\n",
              "    <tr>\n",
              "      <th>...</th>\n",
              "      <td>...</td>\n",
              "      <td>...</td>\n",
              "      <td>...</td>\n",
              "      <td>...</td>\n",
              "      <td>...</td>\n",
              "    </tr>\n",
              "    <tr>\n",
              "      <th>99995</th>\n",
              "      <td>31812.0</td>\n",
              "      <td>1.396372e+09</td>\n",
              "      <td>214662819.0</td>\n",
              "      <td>0</td>\n",
              "      <td>5</td>\n",
              "    </tr>\n",
              "    <tr>\n",
              "      <th>99996</th>\n",
              "      <td>31812.0</td>\n",
              "      <td>1.396372e+09</td>\n",
              "      <td>214836765.0</td>\n",
              "      <td>0</td>\n",
              "      <td>5</td>\n",
              "    </tr>\n",
              "    <tr>\n",
              "      <th>99997</th>\n",
              "      <td>31812.0</td>\n",
              "      <td>1.396372e+09</td>\n",
              "      <td>214836073.0</td>\n",
              "      <td>0</td>\n",
              "      <td>5</td>\n",
              "    </tr>\n",
              "    <tr>\n",
              "      <th>99998</th>\n",
              "      <td>31812.0</td>\n",
              "      <td>1.396372e+09</td>\n",
              "      <td>214662819.0</td>\n",
              "      <td>0</td>\n",
              "      <td>5</td>\n",
              "    </tr>\n",
              "    <tr>\n",
              "      <th>99999</th>\n",
              "      <td>31812.0</td>\n",
              "      <td>1.396373e+09</td>\n",
              "      <td>214843584.0</td>\n",
              "      <td>0</td>\n",
              "      <td>5</td>\n",
              "    </tr>\n",
              "  </tbody>\n",
              "</table>\n",
              "<p>100000 rows × 5 columns</p>\n",
              "</div>"
            ],
            "text/plain": [
              "       session          time         item category  sessionFreq\n",
              "0          1.0  1.396868e+09  214536502.0        0            4\n",
              "1          1.0  1.396868e+09  214536500.0        0            4\n",
              "2          1.0  1.396868e+09  214536506.0        0            4\n",
              "3          1.0  1.396868e+09  214577561.0        0            4\n",
              "4          2.0  1.396879e+09  214662742.0        0            6\n",
              "...        ...           ...          ...      ...          ...\n",
              "99995  31812.0  1.396372e+09  214662819.0        0            5\n",
              "99996  31812.0  1.396372e+09  214836765.0        0            5\n",
              "99997  31812.0  1.396372e+09  214836073.0        0            5\n",
              "99998  31812.0  1.396372e+09  214662819.0        0            5\n",
              "99999  31812.0  1.396373e+09  214843584.0        0            5\n",
              "\n",
              "[100000 rows x 5 columns]"
            ]
          },
          "metadata": {
            "tags": []
          },
          "execution_count": 9
        }
      ]
    },
    {
      "cell_type": "code",
      "metadata": {
        "colab": {
          "base_uri": "https://localhost:8080/",
          "height": 424
        },
        "id": "uy4aOtLB99lY",
        "outputId": "07431b19-feec-473c-88d4-6e63fd548e19"
      },
      "source": [
        "scaler=MinMaxScaler(feature_range=(0,1))#normalizing the values using MinMaxScaler function.\n",
        "scaled=scaler.fit_transform(values)\n",
        "scaled=pd.DataFrame(scaled)\n",
        "scaled#displaying the clicks datasets with normalized values."
      ],
      "execution_count": null,
      "outputs": [
        {
          "output_type": "execute_result",
          "data": {
            "text/html": [
              "<div>\n",
              "<style scoped>\n",
              "    .dataframe tbody tr th:only-of-type {\n",
              "        vertical-align: middle;\n",
              "    }\n",
              "\n",
              "    .dataframe tbody tr th {\n",
              "        vertical-align: top;\n",
              "    }\n",
              "\n",
              "    .dataframe thead th {\n",
              "        text-align: right;\n",
              "    }\n",
              "</style>\n",
              "<table border=\"1\" class=\"dataframe\">\n",
              "  <thead>\n",
              "    <tr style=\"text-align: right;\">\n",
              "      <th></th>\n",
              "      <th>0</th>\n",
              "      <th>1</th>\n",
              "      <th>2</th>\n",
              "      <th>3</th>\n",
              "      <th>4</th>\n",
              "    </tr>\n",
              "  </thead>\n",
              "  <tbody>\n",
              "    <tr>\n",
              "      <th>0</th>\n",
              "      <td>0.000000</td>\n",
              "      <td>0.904541</td>\n",
              "      <td>0.000068</td>\n",
              "      <td>0.0</td>\n",
              "      <td>0.031915</td>\n",
              "    </tr>\n",
              "    <tr>\n",
              "      <th>1</th>\n",
              "      <td>0.000000</td>\n",
              "      <td>0.905029</td>\n",
              "      <td>0.000068</td>\n",
              "      <td>0.0</td>\n",
              "      <td>0.031915</td>\n",
              "    </tr>\n",
              "    <tr>\n",
              "      <th>2</th>\n",
              "      <td>0.000000</td>\n",
              "      <td>0.905029</td>\n",
              "      <td>0.000068</td>\n",
              "      <td>0.0</td>\n",
              "      <td>0.031915</td>\n",
              "    </tr>\n",
              "    <tr>\n",
              "      <th>3</th>\n",
              "      <td>0.000000</td>\n",
              "      <td>0.905273</td>\n",
              "      <td>0.000164</td>\n",
              "      <td>0.0</td>\n",
              "      <td>0.031915</td>\n",
              "    </tr>\n",
              "    <tr>\n",
              "      <th>4</th>\n",
              "      <td>0.000031</td>\n",
              "      <td>0.923096</td>\n",
              "      <td>0.000363</td>\n",
              "      <td>0.0</td>\n",
              "      <td>0.053191</td>\n",
              "    </tr>\n",
              "    <tr>\n",
              "      <th>...</th>\n",
              "      <td>...</td>\n",
              "      <td>...</td>\n",
              "      <td>...</td>\n",
              "      <td>...</td>\n",
              "      <td>...</td>\n",
              "    </tr>\n",
              "    <tr>\n",
              "      <th>99995</th>\n",
              "      <td>0.970854</td>\n",
              "      <td>0.084473</td>\n",
              "      <td>0.000363</td>\n",
              "      <td>0.0</td>\n",
              "      <td>0.042553</td>\n",
              "    </tr>\n",
              "    <tr>\n",
              "      <th>99996</th>\n",
              "      <td>0.970854</td>\n",
              "      <td>0.084717</td>\n",
              "      <td>0.000769</td>\n",
              "      <td>0.0</td>\n",
              "      <td>0.042553</td>\n",
              "    </tr>\n",
              "    <tr>\n",
              "      <th>99997</th>\n",
              "      <td>0.970854</td>\n",
              "      <td>0.084717</td>\n",
              "      <td>0.000767</td>\n",
              "      <td>0.0</td>\n",
              "      <td>0.042553</td>\n",
              "    </tr>\n",
              "    <tr>\n",
              "      <th>99998</th>\n",
              "      <td>0.970854</td>\n",
              "      <td>0.084717</td>\n",
              "      <td>0.000363</td>\n",
              "      <td>0.0</td>\n",
              "      <td>0.042553</td>\n",
              "    </tr>\n",
              "    <tr>\n",
              "      <th>99999</th>\n",
              "      <td>0.970854</td>\n",
              "      <td>0.084717</td>\n",
              "      <td>0.000785</td>\n",
              "      <td>0.0</td>\n",
              "      <td>0.042553</td>\n",
              "    </tr>\n",
              "  </tbody>\n",
              "</table>\n",
              "<p>100000 rows × 5 columns</p>\n",
              "</div>"
            ],
            "text/plain": [
              "              0         1         2    3         4\n",
              "0      0.000000  0.904541  0.000068  0.0  0.031915\n",
              "1      0.000000  0.905029  0.000068  0.0  0.031915\n",
              "2      0.000000  0.905029  0.000068  0.0  0.031915\n",
              "3      0.000000  0.905273  0.000164  0.0  0.031915\n",
              "4      0.000031  0.923096  0.000363  0.0  0.053191\n",
              "...         ...       ...       ...  ...       ...\n",
              "99995  0.970854  0.084473  0.000363  0.0  0.042553\n",
              "99996  0.970854  0.084717  0.000769  0.0  0.042553\n",
              "99997  0.970854  0.084717  0.000767  0.0  0.042553\n",
              "99998  0.970854  0.084717  0.000363  0.0  0.042553\n",
              "99999  0.970854  0.084717  0.000785  0.0  0.042553\n",
              "\n",
              "[100000 rows x 5 columns]"
            ]
          },
          "metadata": {
            "tags": []
          },
          "execution_count": 10
        }
      ]
    },
    {
      "cell_type": "code",
      "metadata": {
        "id": "prRa2fkZ-Q4m"
      },
      "source": [
        "def create_ts_data(dataset,lookback=1,predicted_col=1):#Creates Test Datasets.\n",
        "  temp=dataset.copy()#copying the clicks datasets into temp for training.\n",
        "  temp[\"id\"]=range(1,len(temp)+1)#serial numbers.\n",
        "  temp=temp.iloc[:-lookback,:]#it slices the temp datasets\n",
        "  temp.set_index('id',inplace=True)# it adds the serial numbers in datasets.\n",
        "  predicted_value=dataset.copy()##copying the clicks datasets into predicted_value for testing.\n",
        "  predicted_value=predicted_value.iloc[lookback:,predicted_col]#the predicted values have rows without 1st row and only 1 column.\n",
        "  predicted_value.columns=[\"Predicted\"]#new header name for new column\n",
        "  predicted_value=pd.DataFrame(predicted_value)#adding new column in predicted datasets.\n",
        "  predicted_value[\"id\"]=range(1,len(predicted_value)+1)#generating serial numbers.\n",
        "  predicted_value.set_index('id',inplace=True)#adding serial numbers into datasets.\n",
        "  final_df=pd.concat([temp,predicted_value],axis=1)#concatinating training and testing datasets into one and make it two dimensionals.\n",
        "  return final_df"
      ],
      "execution_count": null,
      "outputs": []
    },
    {
      "cell_type": "code",
      "metadata": {
        "colab": {
          "base_uri": "https://localhost:8080/"
        },
        "id": "tkaeWcDE-WZL",
        "outputId": "124751c5-233a-4040-8a2e-1a5a7979abb8"
      },
      "source": [
        "reframed_df=create_ts_data(scaled,1,0)#making datasets into three dimensionals.\n",
        "reframed_df.fillna(0,inplace=True)#make NA as 0s.\n",
        "reframed_df.columns=['var1(t-1)','var2(t-1)','var3(t-1)','var4(t-1)','var5(t-1)','var1(t)']#naming the columns of the datasets.\n",
        "print(reframed_df)"
      ],
      "execution_count": null,
      "outputs": [
        {
          "output_type": "stream",
          "text": [
            "       var1(t-1)  var2(t-1)  var3(t-1)  var4(t-1)  var5(t-1)   var1(t)\n",
            "id                                                                    \n",
            "1       0.000000   0.904541   0.000068        0.0   0.031915  0.000000\n",
            "2       0.000000   0.905029   0.000068        0.0   0.031915  0.000000\n",
            "3       0.000000   0.905029   0.000068        0.0   0.031915  0.000000\n",
            "4       0.000000   0.905273   0.000164        0.0   0.031915  0.000031\n",
            "5       0.000031   0.923096   0.000363        0.0   0.053191  0.000031\n",
            "...          ...        ...        ...        ...        ...       ...\n",
            "99995   0.970884   0.752441   0.000429        0.0   0.010638  0.970854\n",
            "99996   0.970854   0.084473   0.000363        0.0   0.042553  0.970854\n",
            "99997   0.970854   0.084717   0.000769        0.0   0.042553  0.970854\n",
            "99998   0.970854   0.084717   0.000767        0.0   0.042553  0.970854\n",
            "99999   0.970854   0.084717   0.000363        0.0   0.042553  0.970854\n",
            "\n",
            "[99999 rows x 6 columns]\n"
          ],
          "name": "stdout"
        }
      ]
    },
    {
      "cell_type": "code",
      "metadata": {
        "id": "gTwFfo2RppqQ"
      },
      "source": [
        "values=reframed_df.values#collecting the values.\n",
        "train_X,train_y=values[:,:-1],values[:,-1]#spliting the datasets into features and class label."
      ],
      "execution_count": null,
      "outputs": []
    },
    {
      "cell_type": "code",
      "metadata": {
        "colab": {
          "base_uri": "https://localhost:8080/"
        },
        "id": "BUiTerm1lhRc",
        "outputId": "6c76ecd0-8928-4d6b-c5fe-0ea3679778de"
      },
      "source": [
        "test_clicks=pd.read_csv(\"/content/drive/MyDrive/yoochoose-data/yoochoose-test.dat\",dtype=float,nrows=100000,names=clicks_header,converters={\"category\":convertCategory,\"time\":convertTime})# importing the test_clicks datasets."
      ],
      "execution_count": null,
      "outputs": [
        {
          "output_type": "stream",
          "text": [
            "/usr/local/lib/python3.6/dist-packages/ipykernel_launcher.py:1: ParserWarning: Both a converter and dtype were specified for column time - only the converter will be used\n",
            "  \"\"\"Entry point for launching an IPython kernel.\n",
            "/usr/local/lib/python3.6/dist-packages/ipykernel_launcher.py:1: ParserWarning: Both a converter and dtype were specified for column category - only the converter will be used\n",
            "  \"\"\"Entry point for launching an IPython kernel.\n"
          ],
          "name": "stderr"
        }
      ]
    },
    {
      "cell_type": "code",
      "metadata": {
        "id": "J1RCDj4WmRLf"
      },
      "source": [
        "sessionFreq=test_clicks[\"session\"].value_counts()"
      ],
      "execution_count": null,
      "outputs": []
    },
    {
      "cell_type": "code",
      "metadata": {
        "id": "9ITKZoqSm46y"
      },
      "source": [
        "test_clicks[\"sessionFreq\"]=test_clicks[\"session\"].map(lambda x:sessionFreq[x])"
      ],
      "execution_count": null,
      "outputs": []
    },
    {
      "cell_type": "code",
      "metadata": {
        "colab": {
          "base_uri": "https://localhost:8080/",
          "height": 424
        },
        "id": "X_U_2SLIn_jO",
        "outputId": "a26afed9-50ac-44e8-ae3c-42d93368ae62"
      },
      "source": [
        "test_clicks.fillna(0,inplace=True)\n",
        "values_1=test_clicks.values\n",
        "values_1=values_1.astype('float32')\n",
        "test_clicks"
      ],
      "execution_count": null,
      "outputs": [
        {
          "output_type": "execute_result",
          "data": {
            "text/html": [
              "<div>\n",
              "<style scoped>\n",
              "    .dataframe tbody tr th:only-of-type {\n",
              "        vertical-align: middle;\n",
              "    }\n",
              "\n",
              "    .dataframe tbody tr th {\n",
              "        vertical-align: top;\n",
              "    }\n",
              "\n",
              "    .dataframe thead th {\n",
              "        text-align: right;\n",
              "    }\n",
              "</style>\n",
              "<table border=\"1\" class=\"dataframe\">\n",
              "  <thead>\n",
              "    <tr style=\"text-align: right;\">\n",
              "      <th></th>\n",
              "      <th>session</th>\n",
              "      <th>time</th>\n",
              "      <th>item</th>\n",
              "      <th>category</th>\n",
              "      <th>sessionFreq</th>\n",
              "    </tr>\n",
              "  </thead>\n",
              "  <tbody>\n",
              "    <tr>\n",
              "      <th>0</th>\n",
              "      <td>5.0</td>\n",
              "      <td>1.396891e+09</td>\n",
              "      <td>214530776.0</td>\n",
              "      <td>0</td>\n",
              "      <td>3</td>\n",
              "    </tr>\n",
              "    <tr>\n",
              "      <th>1</th>\n",
              "      <td>5.0</td>\n",
              "      <td>1.396891e+09</td>\n",
              "      <td>214530776.0</td>\n",
              "      <td>0</td>\n",
              "      <td>3</td>\n",
              "    </tr>\n",
              "    <tr>\n",
              "      <th>2</th>\n",
              "      <td>5.0</td>\n",
              "      <td>1.396891e+09</td>\n",
              "      <td>214530776.0</td>\n",
              "      <td>0</td>\n",
              "      <td>3</td>\n",
              "    </tr>\n",
              "    <tr>\n",
              "      <th>3</th>\n",
              "      <td>10.0</td>\n",
              "      <td>1.396597e+09</td>\n",
              "      <td>214820942.0</td>\n",
              "      <td>0</td>\n",
              "      <td>2</td>\n",
              "    </tr>\n",
              "    <tr>\n",
              "      <th>4</th>\n",
              "      <td>10.0</td>\n",
              "      <td>1.396598e+09</td>\n",
              "      <td>214826810.0</td>\n",
              "      <td>0</td>\n",
              "      <td>2</td>\n",
              "    </tr>\n",
              "    <tr>\n",
              "      <th>...</th>\n",
              "      <td>...</td>\n",
              "      <td>...</td>\n",
              "      <td>...</td>\n",
              "      <td>...</td>\n",
              "      <td>...</td>\n",
              "    </tr>\n",
              "    <tr>\n",
              "      <th>99995</th>\n",
              "      <td>126875.0</td>\n",
              "      <td>1.396509e+09</td>\n",
              "      <td>214839373.0</td>\n",
              "      <td>0</td>\n",
              "      <td>2</td>\n",
              "    </tr>\n",
              "    <tr>\n",
              "      <th>99996</th>\n",
              "      <td>126865.0</td>\n",
              "      <td>1.396878e+09</td>\n",
              "      <td>214835912.0</td>\n",
              "      <td>0</td>\n",
              "      <td>2</td>\n",
              "    </tr>\n",
              "    <tr>\n",
              "      <th>99997</th>\n",
              "      <td>126865.0</td>\n",
              "      <td>1.396878e+09</td>\n",
              "      <td>214835912.0</td>\n",
              "      <td>0</td>\n",
              "      <td>2</td>\n",
              "    </tr>\n",
              "    <tr>\n",
              "      <th>99998</th>\n",
              "      <td>126870.0</td>\n",
              "      <td>1.396900e+09</td>\n",
              "      <td>214554714.0</td>\n",
              "      <td>0</td>\n",
              "      <td>1</td>\n",
              "    </tr>\n",
              "    <tr>\n",
              "      <th>99999</th>\n",
              "      <td>126860.0</td>\n",
              "      <td>1.396623e+09</td>\n",
              "      <td>214748287.0</td>\n",
              "      <td>0</td>\n",
              "      <td>1</td>\n",
              "    </tr>\n",
              "  </tbody>\n",
              "</table>\n",
              "<p>100000 rows × 5 columns</p>\n",
              "</div>"
            ],
            "text/plain": [
              "        session          time         item category  sessionFreq\n",
              "0           5.0  1.396891e+09  214530776.0        0            3\n",
              "1           5.0  1.396891e+09  214530776.0        0            3\n",
              "2           5.0  1.396891e+09  214530776.0        0            3\n",
              "3          10.0  1.396597e+09  214820942.0        0            2\n",
              "4          10.0  1.396598e+09  214826810.0        0            2\n",
              "...         ...           ...          ...      ...          ...\n",
              "99995  126875.0  1.396509e+09  214839373.0        0            2\n",
              "99996  126865.0  1.396878e+09  214835912.0        0            2\n",
              "99997  126865.0  1.396878e+09  214835912.0        0            2\n",
              "99998  126870.0  1.396900e+09  214554714.0        0            1\n",
              "99999  126860.0  1.396623e+09  214748287.0        0            1\n",
              "\n",
              "[100000 rows x 5 columns]"
            ]
          },
          "metadata": {
            "tags": []
          },
          "execution_count": 17
        }
      ]
    },
    {
      "cell_type": "code",
      "metadata": {
        "colab": {
          "base_uri": "https://localhost:8080/",
          "height": 424
        },
        "id": "Xb-oC-HJoYrS",
        "outputId": "5ebef548-e265-470f-805c-31d741bc57cf"
      },
      "source": [
        "scaler_1=MinMaxScaler(feature_range=(0,1))\n",
        "scaled_1=scaler_1.fit_transform(values_1)\n",
        "scaled_1=pd.DataFrame(scaled_1)\n",
        "scaled_1"
      ],
      "execution_count": null,
      "outputs": [
        {
          "output_type": "execute_result",
          "data": {
            "text/html": [
              "<div>\n",
              "<style scoped>\n",
              "    .dataframe tbody tr th:only-of-type {\n",
              "        vertical-align: middle;\n",
              "    }\n",
              "\n",
              "    .dataframe tbody tr th {\n",
              "        vertical-align: top;\n",
              "    }\n",
              "\n",
              "    .dataframe thead th {\n",
              "        text-align: right;\n",
              "    }\n",
              "</style>\n",
              "<table border=\"1\" class=\"dataframe\">\n",
              "  <thead>\n",
              "    <tr style=\"text-align: right;\">\n",
              "      <th></th>\n",
              "      <th>0</th>\n",
              "      <th>1</th>\n",
              "      <th>2</th>\n",
              "      <th>3</th>\n",
              "      <th>4</th>\n",
              "    </tr>\n",
              "  </thead>\n",
              "  <tbody>\n",
              "    <tr>\n",
              "      <th>0</th>\n",
              "      <td>0.000000</td>\n",
              "      <td>0.941895</td>\n",
              "      <td>0.000055</td>\n",
              "      <td>0.0</td>\n",
              "      <td>0.019048</td>\n",
              "    </tr>\n",
              "    <tr>\n",
              "      <th>1</th>\n",
              "      <td>0.000000</td>\n",
              "      <td>0.942627</td>\n",
              "      <td>0.000055</td>\n",
              "      <td>0.0</td>\n",
              "      <td>0.019048</td>\n",
              "    </tr>\n",
              "    <tr>\n",
              "      <th>2</th>\n",
              "      <td>0.000000</td>\n",
              "      <td>0.942627</td>\n",
              "      <td>0.000055</td>\n",
              "      <td>0.0</td>\n",
              "      <td>0.019048</td>\n",
              "    </tr>\n",
              "    <tr>\n",
              "      <th>3</th>\n",
              "      <td>0.000038</td>\n",
              "      <td>0.456787</td>\n",
              "      <td>0.000732</td>\n",
              "      <td>0.0</td>\n",
              "      <td>0.009524</td>\n",
              "    </tr>\n",
              "    <tr>\n",
              "      <th>4</th>\n",
              "      <td>0.000038</td>\n",
              "      <td>0.456787</td>\n",
              "      <td>0.000745</td>\n",
              "      <td>0.0</td>\n",
              "      <td>0.009524</td>\n",
              "    </tr>\n",
              "    <tr>\n",
              "      <th>...</th>\n",
              "      <td>...</td>\n",
              "      <td>...</td>\n",
              "      <td>...</td>\n",
              "      <td>...</td>\n",
              "      <td>...</td>\n",
              "    </tr>\n",
              "    <tr>\n",
              "      <th>99995</th>\n",
              "      <td>0.967993</td>\n",
              "      <td>0.310547</td>\n",
              "      <td>0.000775</td>\n",
              "      <td>0.0</td>\n",
              "      <td>0.009524</td>\n",
              "    </tr>\n",
              "    <tr>\n",
              "      <th>99996</th>\n",
              "      <td>0.967917</td>\n",
              "      <td>0.920166</td>\n",
              "      <td>0.000767</td>\n",
              "      <td>0.0</td>\n",
              "      <td>0.009524</td>\n",
              "    </tr>\n",
              "    <tr>\n",
              "      <th>99997</th>\n",
              "      <td>0.967917</td>\n",
              "      <td>0.920410</td>\n",
              "      <td>0.000767</td>\n",
              "      <td>0.0</td>\n",
              "      <td>0.009524</td>\n",
              "    </tr>\n",
              "    <tr>\n",
              "      <th>99998</th>\n",
              "      <td>0.967955</td>\n",
              "      <td>0.957520</td>\n",
              "      <td>0.000111</td>\n",
              "      <td>0.0</td>\n",
              "      <td>0.000000</td>\n",
              "    </tr>\n",
              "    <tr>\n",
              "      <th>99999</th>\n",
              "      <td>0.967879</td>\n",
              "      <td>0.498779</td>\n",
              "      <td>0.000562</td>\n",
              "      <td>0.0</td>\n",
              "      <td>0.000000</td>\n",
              "    </tr>\n",
              "  </tbody>\n",
              "</table>\n",
              "<p>100000 rows × 5 columns</p>\n",
              "</div>"
            ],
            "text/plain": [
              "              0         1         2    3         4\n",
              "0      0.000000  0.941895  0.000055  0.0  0.019048\n",
              "1      0.000000  0.942627  0.000055  0.0  0.019048\n",
              "2      0.000000  0.942627  0.000055  0.0  0.019048\n",
              "3      0.000038  0.456787  0.000732  0.0  0.009524\n",
              "4      0.000038  0.456787  0.000745  0.0  0.009524\n",
              "...         ...       ...       ...  ...       ...\n",
              "99995  0.967993  0.310547  0.000775  0.0  0.009524\n",
              "99996  0.967917  0.920166  0.000767  0.0  0.009524\n",
              "99997  0.967917  0.920410  0.000767  0.0  0.009524\n",
              "99998  0.967955  0.957520  0.000111  0.0  0.000000\n",
              "99999  0.967879  0.498779  0.000562  0.0  0.000000\n",
              "\n",
              "[100000 rows x 5 columns]"
            ]
          },
          "metadata": {
            "tags": []
          },
          "execution_count": 18
        }
      ]
    },
    {
      "cell_type": "code",
      "metadata": {
        "colab": {
          "base_uri": "https://localhost:8080/"
        },
        "id": "LW1OyC24ostR",
        "outputId": "dc630ab6-d331-408b-ae01-521562d92218"
      },
      "source": [
        "reframed_df_1=create_ts_data(scaled_1,1,0)\n",
        "reframed_df_1.fillna(0,inplace=True)\n",
        "reframed_df_1.columns=['var1(t-1)','var2(t-1)','var3(t-1)','var4(t-1)','var5(t-1)','var1(t)']\n",
        "print(reframed_df_1.head(4))"
      ],
      "execution_count": null,
      "outputs": [
        {
          "output_type": "stream",
          "text": [
            "    var1(t-1)  var2(t-1)  var3(t-1)  var4(t-1)  var5(t-1)   var1(t)\n",
            "id                                                                 \n",
            "1    0.000000   0.941895   0.000055        0.0   0.019048  0.000000\n",
            "2    0.000000   0.942627   0.000055        0.0   0.019048  0.000000\n",
            "3    0.000000   0.942627   0.000055        0.0   0.019048  0.000038\n",
            "4    0.000038   0.456787   0.000732        0.0   0.009524  0.000038\n"
          ],
          "name": "stdout"
        }
      ]
    },
    {
      "cell_type": "code",
      "metadata": {
        "id": "vyM-Fapx-6K7"
      },
      "source": [
        "\n",
        "values_1=reframed_df_1.values\n"
      ],
      "execution_count": null,
      "outputs": []
    },
    {
      "cell_type": "code",
      "metadata": {
        "id": "k0aO6yyXo-xK"
      },
      "source": [
        "\n",
        "\n",
        "\n",
        "test_X,test_y=values_1[:,:-1],values_1[:,-1]"
      ],
      "execution_count": null,
      "outputs": []
    },
    {
      "cell_type": "code",
      "metadata": {
        "colab": {
          "base_uri": "https://localhost:8080/"
        },
        "id": "eXYCVMFiBYse",
        "outputId": "679cb195-0e65-4b51-a875-23f8919e7589"
      },
      "source": [
        "train_X=train_X.reshape((train_X.shape[0],1,train_X.shape[1]))\n",
        "test_X=test_X.reshape((test_X.shape[0],1,test_X.shape[1]))\n",
        "print(train_X.shape,train_y.shape,test_X.shape,test_y.shape)"
      ],
      "execution_count": null,
      "outputs": [
        {
          "output_type": "stream",
          "text": [
            "(99999, 1, 5) (99999,) (99999, 1, 5) (99999,)\n"
          ],
          "name": "stdout"
        }
      ]
    },
    {
      "cell_type": "code",
      "metadata": {
        "id": "Ht5fPUR7cNdG"
      },
      "source": [
        "import keras.backend as K\n",
        "def recall(y_true,y_pred):\n",
        "    true_positives=K.sum(K.round(K.clip(y_true*y_pred,0,1)))\n",
        "    #possible_positives=K.sum(K.round(K.clip(y_true,0,1)))\n",
        "    #recall=true_positives/(true_positives+K.epsilon())\n",
        "    recall=true_positives/20\n",
        "    return recall"
      ],
      "execution_count": null,
      "outputs": []
    },
    {
      "cell_type": "code",
      "metadata": {
        "id": "h4mf1a8GcNdH"
      },
      "source": [
        "def mrr(y_true,y_pred):\n",
        "    mrr=K.mean(1/y_pred)\n",
        "    return K.abs(mrr)"
      ],
      "execution_count": null,
      "outputs": []
    },
    {
      "cell_type": "code",
      "metadata": {
        "colab": {
          "base_uri": "https://localhost:8080/"
        },
        "id": "msYI2fVVCS2l",
        "outputId": "df776077-d632-4fc3-a094-3b7ff0c5757f"
      },
      "source": [
        "from keras.layers import*\n",
        "\n",
        "model_gru=Sequential()\n",
        "model_gru.add(GRU(512,dropout=0.87,input_shape=(train_X.shape[1],train_X.shape[2]),return_sequences=True))\n",
        "\n",
        "model_gru.add(GRU(units=256,dropout=0.87,return_sequences=True))\n",
        "model_gru.add(GRU(units=256,dropout=0.87,return_sequences=True))\n",
        "model_gru.add(GRU(units=256,dropout=0.87,return_sequences=True))\n",
        "model_gru.add(GRU(units=128,dropout=0.87,return_sequences=True))\n",
        "model_gru.add(GRU(units=64,return_sequences=True))\n",
        "model_gru.add(GRU(units=64,return_sequences=True))\n",
        "model_gru.add(GRU(units=32,return_sequences=True))\n",
        "\n",
        "\n",
        "\n",
        "\n",
        "model_gru.add(GRU(units=32))\n",
        "\n",
        "\n",
        "model_gru.add(Dense(units=1))\n",
        "\n",
        "\n",
        "model_gru.compile(loss='hinge',optimizer='adam',metrics=[recall,mrr])\n",
        "model_gru.summary()"
      ],
      "execution_count": null,
      "outputs": [
        {
          "output_type": "stream",
          "text": [
            "Model: \"sequential_4\"\n",
            "_________________________________________________________________\n",
            "Layer (type)                 Output Shape              Param #   \n",
            "=================================================================\n",
            "gru_36 (GRU)                 (None, 1, 512)            797184    \n",
            "_________________________________________________________________\n",
            "gru_37 (GRU)                 (None, 1, 256)            591360    \n",
            "_________________________________________________________________\n",
            "gru_38 (GRU)                 (None, 1, 256)            394752    \n",
            "_________________________________________________________________\n",
            "gru_39 (GRU)                 (None, 1, 256)            394752    \n",
            "_________________________________________________________________\n",
            "gru_40 (GRU)                 (None, 1, 128)            148224    \n",
            "_________________________________________________________________\n",
            "gru_41 (GRU)                 (None, 1, 64)             37248     \n",
            "_________________________________________________________________\n",
            "gru_42 (GRU)                 (None, 1, 64)             24960     \n",
            "_________________________________________________________________\n",
            "gru_43 (GRU)                 (None, 1, 32)             9408      \n",
            "_________________________________________________________________\n",
            "gru_44 (GRU)                 (None, 32)                6336      \n",
            "_________________________________________________________________\n",
            "dense_4 (Dense)              (None, 1)                 33        \n",
            "=================================================================\n",
            "Total params: 2,404,257\n",
            "Trainable params: 2,404,257\n",
            "Non-trainable params: 0\n",
            "_________________________________________________________________\n"
          ],
          "name": "stdout"
        }
      ]
    },
    {
      "cell_type": "code",
      "metadata": {
        "colab": {
          "base_uri": "https://localhost:8080/"
        },
        "id": "uRezpaDqCiAW",
        "outputId": "ea45d687-a37d-49cc-fbac-0007653fc213"
      },
      "source": [
        "gru_history=model_gru.fit(train_X,train_y,epochs=10,batch_size=256,validation_data=(test_X,test_y),shuffle=False)"
      ],
      "execution_count": null,
      "outputs": [
        {
          "output_type": "stream",
          "text": [
            "Epoch 1/10\n",
            "391/391 [==============================] - 76s 157ms/step - loss: 0.3434 - recall: 8.3651 - mrr: inf - val_loss: 0.0619 - val_recall: 11.9981 - val_mrr: 0.1246\n",
            "Epoch 2/10\n",
            "391/391 [==============================] - 60s 153ms/step - loss: 0.2079 - recall: 9.8872 - mrr: 0.0979 - val_loss: 0.0437 - val_recall: 12.2336 - val_mrr: 0.0879\n",
            "Epoch 3/10\n",
            "391/391 [==============================] - 59s 150ms/step - loss: 0.1697 - recall: 10.4664 - mrr: 0.0764 - val_loss: 0.0358 - val_recall: 12.3331 - val_mrr: 0.0724\n",
            "Epoch 4/10\n",
            "391/391 [==============================] - 59s 151ms/step - loss: 0.1487 - recall: 10.7819 - mrr: 0.0653 - val_loss: 0.0310 - val_recall: 12.3876 - val_mrr: 0.0630\n",
            "Epoch 5/10\n",
            "391/391 [==============================] - 59s 151ms/step - loss: 0.1345 - recall: 10.9895 - mrr: 0.0580 - val_loss: 0.0278 - val_recall: 12.4347 - val_mrr: 0.0565\n",
            "Epoch 6/10\n",
            "391/391 [==============================] - 60s 152ms/step - loss: 0.1239 - recall: 11.1337 - mrr: 0.0525 - val_loss: 0.0253 - val_recall: 12.4647 - val_mrr: 0.0513\n",
            "Epoch 7/10\n",
            "391/391 [==============================] - 60s 153ms/step - loss: 0.1150 - recall: 11.2412 - mrr: 0.0481 - val_loss: 0.0232 - val_recall: 12.4864 - val_mrr: 0.0472\n",
            "Epoch 8/10\n",
            "391/391 [==============================] - 60s 152ms/step - loss: 0.1078 - recall: 11.3543 - mrr: 0.0445 - val_loss: 0.0216 - val_recall: 12.5059 - val_mrr: 0.0438\n",
            "Epoch 9/10\n",
            "391/391 [==============================] - 59s 151ms/step - loss: 0.1017 - recall: 11.4288 - mrr: 0.0416 - val_loss: 0.0202 - val_recall: 12.5251 - val_mrr: 0.0410\n",
            "Epoch 10/10\n",
            "391/391 [==============================] - 59s 151ms/step - loss: 0.0964 - recall: 11.4830 - mrr: 0.0390 - val_loss: 0.0190 - val_recall: 12.5458 - val_mrr: 0.0386\n"
          ],
          "name": "stdout"
        }
      ]
    },
    {
      "cell_type": "code",
      "metadata": {
        "colab": {
          "base_uri": "https://localhost:8080/"
        },
        "id": "L1i5oXX8vFZc",
        "outputId": "822a6903-6caa-4e99-aab3-9738762b10e9"
      },
      "source": [
        "from keras.layers import*\n",
        "\n",
        "model_gru2=Sequential()\n",
        "\n",
        "model_gru2.add(GRU(512,dropout=0.87,input_shape=(train_X.shape[1],train_X.shape[2]),return_sequences=True))\n",
        "\n",
        "model_gru2.add(GRU(units=256,dropout=0.87,return_sequences=True))\n",
        "model_gru2.add(GRU(units=256,dropout=0.87,return_sequences=True))\n",
        "model_gru2.add(GRU(units=256,dropout=0.87,return_sequences=True))\n",
        "model_gru2.add(GRU(units=128,dropout=0.87,return_sequences=True))\n",
        "model_gru2.add(GRU(units=64,return_sequences=True))\n",
        "model_gru2.add(GRU(units=64,return_sequences=True))\n",
        "model_gru2.add(GRU(units=32,return_sequences=True))\n",
        "\n",
        "\n",
        "\n",
        "\n",
        "model_gru2.add(GRU(units=32))\n",
        "\n",
        "\n",
        "model_gru2.add(Dense(units=1,activation='softmax'))\n",
        "\n",
        "\n",
        "model_gru2.compile(loss='categorical_crossentropy',optimizer='adam',metrics=[recall,mrr])\n",
        "model_gru2.summary()"
      ],
      "execution_count": null,
      "outputs": [
        {
          "output_type": "stream",
          "text": [
            "Model: \"sequential_6\"\n",
            "_________________________________________________________________\n",
            "Layer (type)                 Output Shape              Param #   \n",
            "=================================================================\n",
            "gru_54 (GRU)                 (None, 1, 512)            797184    \n",
            "_________________________________________________________________\n",
            "gru_55 (GRU)                 (None, 1, 256)            591360    \n",
            "_________________________________________________________________\n",
            "gru_56 (GRU)                 (None, 1, 256)            394752    \n",
            "_________________________________________________________________\n",
            "gru_57 (GRU)                 (None, 1, 256)            394752    \n",
            "_________________________________________________________________\n",
            "gru_58 (GRU)                 (None, 1, 128)            148224    \n",
            "_________________________________________________________________\n",
            "gru_59 (GRU)                 (None, 1, 64)             37248     \n",
            "_________________________________________________________________\n",
            "gru_60 (GRU)                 (None, 1, 64)             24960     \n",
            "_________________________________________________________________\n",
            "gru_61 (GRU)                 (None, 1, 32)             9408      \n",
            "_________________________________________________________________\n",
            "gru_62 (GRU)                 (None, 32)                6336      \n",
            "_________________________________________________________________\n",
            "dense_6 (Dense)              (None, 1)                 33        \n",
            "=================================================================\n",
            "Total params: 2,404,257\n",
            "Trainable params: 2,404,257\n",
            "Non-trainable params: 0\n",
            "_________________________________________________________________\n"
          ],
          "name": "stdout"
        }
      ]
    },
    {
      "cell_type": "code",
      "metadata": {
        "colab": {
          "base_uri": "https://localhost:8080/"
        },
        "id": "b-f0Hkmzy3Je",
        "outputId": "7b81833b-33b5-42f6-e626-f9462f8e636f"
      },
      "source": [
        "gru_history2=model_gru2.fit(train_X,train_y,epochs=10,batch_size=256,validation_data=(test_X,test_y),shuffle=False)"
      ],
      "execution_count": null,
      "outputs": [
        {
          "output_type": "stream",
          "text": [
            "Epoch 1/10\n",
            "391/391 [==============================] - 76s 155ms/step - loss: 0.0000e+00 - recall: 1.8061 - mrr: 1.0000 - val_loss: 0.0000e+00 - val_recall: 6.2370 - val_mrr: 1.0000\n",
            "Epoch 2/10\n",
            "391/391 [==============================] - 58s 149ms/step - loss: 0.0000e+00 - recall: 1.8061 - mrr: 1.0000 - val_loss: 0.0000e+00 - val_recall: 6.2370 - val_mrr: 1.0000\n",
            "Epoch 3/10\n",
            "391/391 [==============================] - 58s 148ms/step - loss: 0.0000e+00 - recall: 1.8061 - mrr: 1.0000 - val_loss: 0.0000e+00 - val_recall: 6.2370 - val_mrr: 1.0000\n",
            "Epoch 4/10\n",
            "391/391 [==============================] - 58s 148ms/step - loss: 0.0000e+00 - recall: 1.8061 - mrr: 1.0000 - val_loss: 0.0000e+00 - val_recall: 6.2370 - val_mrr: 1.0000\n",
            "Epoch 5/10\n",
            "391/391 [==============================] - 58s 148ms/step - loss: 0.0000e+00 - recall: 1.8061 - mrr: 1.0000 - val_loss: 0.0000e+00 - val_recall: 6.2370 - val_mrr: 1.0000\n",
            "Epoch 6/10\n",
            "391/391 [==============================] - 58s 148ms/step - loss: 0.0000e+00 - recall: 1.8061 - mrr: 1.0000 - val_loss: 0.0000e+00 - val_recall: 6.2370 - val_mrr: 1.0000\n",
            "Epoch 7/10\n",
            "391/391 [==============================] - 59s 151ms/step - loss: 0.0000e+00 - recall: 1.8061 - mrr: 1.0000 - val_loss: 0.0000e+00 - val_recall: 6.2370 - val_mrr: 1.0000\n",
            "Epoch 8/10\n",
            "391/391 [==============================] - 58s 148ms/step - loss: 0.0000e+00 - recall: 1.8061 - mrr: 1.0000 - val_loss: 0.0000e+00 - val_recall: 6.2370 - val_mrr: 1.0000\n",
            "Epoch 9/10\n",
            "391/391 [==============================] - 59s 150ms/step - loss: 0.0000e+00 - recall: 1.8061 - mrr: 1.0000 - val_loss: 0.0000e+00 - val_recall: 6.2370 - val_mrr: 1.0000\n",
            "Epoch 10/10\n",
            "391/391 [==============================] - 59s 150ms/step - loss: 0.0000e+00 - recall: 1.8061 - mrr: 1.0000 - val_loss: 0.0000e+00 - val_recall: 6.2370 - val_mrr: 1.0000\n"
          ],
          "name": "stdout"
        }
      ]
    },
    {
      "cell_type": "code",
      "metadata": {
        "colab": {
          "base_uri": "https://localhost:8080/",
          "height": 265
        },
        "id": "XgaVHHmwzFUL",
        "outputId": "81a4d461-fc41-4df2-c280-5640c213fdf0"
      },
      "source": [
        "  pyplot.plot(gru_history.history['mrr'],label='GRU-SVM train',color='blue')\n",
        "  pyplot.plot(gru_history.history['val_mrr'],label='GRU-SVM test',color='green')\n",
        " \n",
        "  pyplot.legend()\n",
        "  pyplot.show()                                                                 "
      ],
      "execution_count": null,
      "outputs": [
        {
          "output_type": "display_data",
          "data": {
            "image/png": "[encoded data removed]",
            "text/plain": [
              "<Figure size 432x288 with 1 Axes>"
            ]
          },
          "metadata": {
            "tags": [],
            "needs_background": "light"
          }
        }
      ]
    },
    {
      "cell_type": "code",
      "metadata": {
        "colab": {
          "base_uri": "https://localhost:8080/",
          "height": 265
        },
        "id": "28uiGd-R4-SN",
        "outputId": "3b844a74-2bc3-4801-b64a-72fd480ee7ab"
      },
      "source": [
        "pyplot.plot(gru_history.history['recall'],label='GRU-SVM train',color='blue')\n",
        "pyplot.plot(gru_history.history['val_recall'],label='GRU-SVM test',color='green')\n",
        " \n",
        "pyplot.legend()\n",
        "pyplot.show()  "
      ],
      "execution_count": null,
      "outputs": [
        {
          "output_type": "display_data",
          "data": {
            "image/png": "[encoded data removed]",
            "text/plain": [
              "<Figure size 432x288 with 1 Axes>"
            ]
          },
          "metadata": {
            "tags": [],
            "needs_background": "light"
          }
        }
      ]
    },
    {
      "cell_type": "code",
      "metadata": {
        "colab": {
          "base_uri": "https://localhost:8080/",
          "height": 265
        },
        "id": "1iWo0zLacNdK",
        "outputId": "edaaad1e-8594-4cb9-98a4-6384168b9904"
      },
      "source": [
        "pyplot.plot(gru_history2.history['mrr'],label='GRU-Softmax train',color='blue')\n",
        "pyplot.plot(gru_history2.history['val_mrr'],label='GRU-Softmax test',color='green')\n",
        " \n",
        "pyplot.legend()\n",
        "pyplot.show()                                                                 "
      ],
      "execution_count": null,
      "outputs": [
        {
          "output_type": "display_data",
          "data": {
            "image/png": "[encoded data removed]",
            "text/plain": [
              "<Figure size 432x288 with 1 Axes>"
            ]
          },
          "metadata": {
            "tags": [],
            "needs_background": "light"
          }
        }
      ]
    },
    {
      "cell_type": "code",
      "metadata": {
        "colab": {
          "base_uri": "https://localhost:8080/",
          "height": 265
        },
        "id": "XtOn9FUncNdK",
        "outputId": "9551f586-bb2e-4b72-fefa-9732e511bd2b"
      },
      "source": [
        "pyplot.plot(gru_history2.history['recall'],label='GRU-Softmax train',color='blue')\n",
        "pyplot.plot(gru_history2.history['val_recall'],label='GRU-Softmax test',color='green')\n",
        " \n",
        "pyplot.legend()\n",
        "pyplot.show()  "
      ],
      "execution_count": null,
      "outputs": [
        {
          "output_type": "display_data",
          "data": {
            "image/png": "[encoded data removed]",
            "text/plain": [
              "<Figure size 432x288 with 1 Axes>"
            ]
          },
          "metadata": {
            "tags": [],
            "needs_background": "light"
          }
        }
      ]
    },
    {
      "cell_type": "code",
      "metadata": {
        "colab": {
          "base_uri": "https://localhost:8080/"
        },
        "id": "_a7Q-9fi98wA",
        "outputId": "81424cb1-1075-47b3-bb65-82b7d85513bc"
      },
      "source": [
        "from keras.layers import*\n",
        "\n",
        "model_gru3=Sequential()\n",
        "\n",
        "model_gru3.add(GRU(512,dropout=0.87,input_shape=(train_X.shape[1],train_X.shape[2]),return_sequences=True))\n",
        "\n",
        "model_gru3.add(GRU(units=256,dropout=0.87,return_sequences=True))\n",
        "model_gru3.add(GRU(units=256,dropout=0.87,return_sequences=True))\n",
        "model_gru3.add(GRU(units=256,dropout=0.87,return_sequences=True))\n",
        "model_gru3.add(GRU(units=128,dropout=0.87,return_sequences=True))\n",
        "model_gru3.add(GRU(units=64,return_sequences=True))\n",
        "model_gru3.add(GRU(units=64,return_sequences=True))\n",
        "model_gru3.add(GRU(units=32,return_sequences=True))\n",
        "\n",
        "\n",
        "\n",
        "\n",
        "model_gru3.add(GRU(units=32))\n",
        "\n",
        "\n",
        "model_gru3.add(Dense(units=1,activation='softmax'))\n",
        "\n",
        "\n",
        "model_gru3.compile(loss='cosine_similarity',optimizer='sgd',metrics=[recall,mrr])\n",
        "model_gru3.summary()"
      ],
      "execution_count": null,
      "outputs": [
        {
          "output_type": "stream",
          "text": [
            "Model: \"sequential_7\"\n",
            "_________________________________________________________________\n",
            "Layer (type)                 Output Shape              Param #   \n",
            "=================================================================\n",
            "gru_63 (GRU)                 (None, 1, 512)            797184    \n",
            "_________________________________________________________________\n",
            "gru_64 (GRU)                 (None, 1, 256)            591360    \n",
            "_________________________________________________________________\n",
            "gru_65 (GRU)                 (None, 1, 256)            394752    \n",
            "_________________________________________________________________\n",
            "gru_66 (GRU)                 (None, 1, 256)            394752    \n",
            "_________________________________________________________________\n",
            "gru_67 (GRU)                 (None, 1, 128)            148224    \n",
            "_________________________________________________________________\n",
            "gru_68 (GRU)                 (None, 1, 64)             37248     \n",
            "_________________________________________________________________\n",
            "gru_69 (GRU)                 (None, 1, 64)             24960     \n",
            "_________________________________________________________________\n",
            "gru_70 (GRU)                 (None, 1, 32)             9408      \n",
            "_________________________________________________________________\n",
            "gru_71 (GRU)                 (None, 32)                6336      \n",
            "_________________________________________________________________\n",
            "dense_7 (Dense)              (None, 1)                 33        \n",
            "=================================================================\n",
            "Total params: 2,404,257\n",
            "Trainable params: 2,404,257\n",
            "Non-trainable params: 0\n",
            "_________________________________________________________________\n"
          ],
          "name": "stdout"
        }
      ]
    },
    {
      "cell_type": "code",
      "metadata": {
        "colab": {
          "base_uri": "https://localhost:8080/"
        },
        "id": "JzVYx1wH-hTq",
        "outputId": "ced0e162-8caa-4690-8419-574725ad2c5f"
      },
      "source": [
        "gru_history3=model_gru3.fit(train_X,train_y,epochs=10,batch_size=256,validation_data=(test_X,test_y),shuffle=False)"
      ],
      "execution_count": null,
      "outputs": [
        {
          "output_type": "stream",
          "text": [
            "Epoch 1/10\n",
            "391/391 [==============================] - 75s 154ms/step - loss: -0.9998 - recall: 1.8061 - mrr: 1.0000 - val_loss: -1.0000 - val_recall: 6.2370 - val_mrr: 1.0000\n",
            "Epoch 2/10\n",
            "391/391 [==============================] - 57s 147ms/step - loss: -0.9998 - recall: 1.8061 - mrr: 1.0000 - val_loss: -1.0000 - val_recall: 6.2370 - val_mrr: 1.0000\n",
            "Epoch 3/10\n",
            "391/391 [==============================] - 57s 147ms/step - loss: -0.9998 - recall: 1.8061 - mrr: 1.0000 - val_loss: -1.0000 - val_recall: 6.2370 - val_mrr: 1.0000\n",
            "Epoch 4/10\n",
            "391/391 [==============================] - 58s 148ms/step - loss: -0.9998 - recall: 1.8061 - mrr: 1.0000 - val_loss: -1.0000 - val_recall: 6.2370 - val_mrr: 1.0000\n",
            "Epoch 5/10\n",
            "391/391 [==============================] - 58s 147ms/step - loss: -0.9998 - recall: 1.8061 - mrr: 1.0000 - val_loss: -1.0000 - val_recall: 6.2370 - val_mrr: 1.0000\n",
            "Epoch 6/10\n",
            "391/391 [==============================] - 58s 148ms/step - loss: -0.9998 - recall: 1.8061 - mrr: 1.0000 - val_loss: -1.0000 - val_recall: 6.2370 - val_mrr: 1.0000\n",
            "Epoch 7/10\n",
            "391/391 [==============================] - 57s 147ms/step - loss: -0.9998 - recall: 1.8061 - mrr: 1.0000 - val_loss: -1.0000 - val_recall: 6.2370 - val_mrr: 1.0000\n",
            "Epoch 8/10\n",
            "391/391 [==============================] - 57s 146ms/step - loss: -0.9998 - recall: 1.8061 - mrr: 1.0000 - val_loss: -1.0000 - val_recall: 6.2370 - val_mrr: 1.0000\n",
            "Epoch 9/10\n",
            "391/391 [==============================] - 58s 147ms/step - loss: -0.9998 - recall: 1.8061 - mrr: 1.0000 - val_loss: -1.0000 - val_recall: 6.2370 - val_mrr: 1.0000\n",
            "Epoch 10/10\n",
            "391/391 [==============================] - 58s 149ms/step - loss: -0.9998 - recall: 1.8061 - mrr: 1.0000 - val_loss: -1.0000 - val_recall: 6.2370 - val_mrr: 1.0000\n"
          ],
          "name": "stdout"
        }
      ]
    },
    {
      "cell_type": "code",
      "metadata": {
        "colab": {
          "base_uri": "https://localhost:8080/",
          "height": 265
        },
        "id": "akBh3XZcBLY2",
        "outputId": "ccf90f3f-2a3e-49ea-de3d-95d65d96fe0f"
      },
      "source": [
        "pyplot.plot(gru_history3.history['recall'],label='GRU-Similarity train',color='blue')\n",
        "pyplot.plot(gru_history3.history['val_recall'],label='GRU-Similarity test',color='green')\n",
        " \n",
        "pyplot.legend()\n",
        "pyplot.show() "
      ],
      "execution_count": null,
      "outputs": [
        {
          "output_type": "display_data",
          "data": {
            "image/png": "[encoded data removed]",
            "text/plain": [
              "<Figure size 432x288 with 1 Axes>"
            ]
          },
          "metadata": {
            "tags": [],
            "needs_background": "light"
          }
        }
      ]
    }
  ]
}